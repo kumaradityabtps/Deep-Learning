{
  "nbformat": 4,
  "nbformat_minor": 0,
  "metadata": {
    "colab": {
      "provenance": []
    },
    "kernelspec": {
      "name": "python3",
      "display_name": "Python 3"
    },
    "language_info": {
      "name": "python"
    }
  },
  "cells": [
    {
      "cell_type": "code",
      "execution_count": 1,
      "metadata": {
        "id": "n0YwB4nQmfFS"
      },
      "outputs": [],
      "source": [
        "import numpy as np\n",
        "import torch"
      ]
    },
    {
      "cell_type": "code",
      "source": [
        "# create a list of numbers to compute the mean and variance of\n",
        "x = [1,2,4,6,5,4,0]\n",
        "n = len(x)\n",
        "\n",
        "# compute the mean\n",
        "mean1 = np.mean(x)\n",
        "mean2 = np.sum(x) / n\n",
        "\n",
        "# print them\n",
        "print(mean1)\n",
        "print(mean2)"
      ],
      "metadata": {
        "colab": {
          "base_uri": "https://localhost:8080/"
        },
        "id": "N0woPIGYmvrN",
        "outputId": "242f7ace-0100-4b21-c0ed-46f43be0ca04"
      },
      "execution_count": 2,
      "outputs": [
        {
          "output_type": "stream",
          "name": "stdout",
          "text": [
            "3.142857142857143\n",
            "3.142857142857143\n"
          ]
        }
      ]
    },
    {
      "cell_type": "code",
      "source": [
        "# variance\n",
        "\n",
        "var1 = np.var(x)\n",
        "var2 = (1/(n-1)) * np.sum( (x-mean1)**2 )\n",
        "\n",
        "print(var1)\n",
        "print(var2)"
      ],
      "metadata": {
        "colab": {
          "base_uri": "https://localhost:8080/"
        },
        "id": "bmq1o5xitbLj",
        "outputId": "1a6e3543-b58d-42c6-c35c-4fbf9bcfd147"
      },
      "execution_count": 3,
      "outputs": [
        {
          "output_type": "stream",
          "name": "stdout",
          "text": [
            "4.122448979591836\n",
            "4.809523809523809\n"
          ]
        }
      ]
    },
    {
      "cell_type": "code",
      "source": [
        "var3 = np.var(x,ddof=1)\n",
        "\n",
        "print(var3)\n",
        "print(var2)"
      ],
      "metadata": {
        "colab": {
          "base_uri": "https://localhost:8080/"
        },
        "id": "QvqWBDYNuGWc",
        "outputId": "3b0f36b1-d61b-4c4c-906c-e86fad1be484"
      },
      "execution_count": 4,
      "outputs": [
        {
          "output_type": "stream",
          "name": "stdout",
          "text": [
            "4.809523809523809\n",
            "4.809523809523809\n"
          ]
        }
      ]
    },
    {
      "cell_type": "code",
      "source": [
        "# does it matter for large N?\n",
        "\n",
        "N = 10000\n",
        "x = np.random.randint(0,high=20,size=N)\n",
        "\n",
        "var0 = np.var(x,ddof=0) # default\n",
        "var1 = np.var(x,ddof=1) # unbiased\n",
        "\n",
        "print(var0)\n",
        "print(var1)\n"
      ],
      "metadata": {
        "colab": {
          "base_uri": "https://localhost:8080/"
        },
        "id": "A1j19J4ivMgO",
        "outputId": "f04c530a-67a6-496d-bb35-9970f6077665"
      },
      "execution_count": 5,
      "outputs": [
        {
          "output_type": "stream",
          "name": "stdout",
          "text": [
            "33.282726360000005\n",
            "33.286054965496554\n"
          ]
        }
      ]
    },
    {
      "cell_type": "code",
      "source": [
        "\n"
      ],
      "metadata": {
        "id": "ZIhUotu-v6lp"
      },
      "execution_count": 5,
      "outputs": []
    }
  ]
}