{
  "nbformat": 4,
  "nbformat_minor": 0,
  "metadata": {
    "colab": {
      "provenance": []
    },
    "kernelspec": {
      "name": "python3",
      "display_name": "Python 3"
    },
    "language_info": {
      "name": "python"
    }
  },
  "cells": [
    {
      "cell_type": "code",
      "execution_count": null,
      "metadata": {
        "id": "gKCopkDKLAi6"
      },
      "outputs": [],
      "source": [
        "# import libraries\n",
        "import numpy as np\n",
        "import torch"
      ]
    },
    {
      "cell_type": "markdown",
      "source": [
        "# using Numpy\n"
      ],
      "metadata": {
        "id": "ejk6p_UxkNYm"
      }
    },
    {
      "cell_type": "code",
      "source": [
        "v = np.array([ 1,40,2,-3 ])\n",
        "\n",
        "minval = np.min(v)\n",
        "maxval = np.max(v)\n",
        "\n",
        "print('min,max:%g,%g' %(minval,maxval))\n",
        "\n",
        "minidx = np.argmin(v)\n",
        "maxidx = np.argmax(v)\n",
        "\n",
        "print('Min, max indices : %g %g' %(minidx,maxidx))"
      ],
      "metadata": {
        "colab": {
          "base_uri": "https://localhost:8080/"
        },
        "id": "sNf2WG8XMdkx",
        "outputId": "054cd698-b3d4-47ca-cc88-8c43400a1358"
      },
      "execution_count": null,
      "outputs": [
        {
          "output_type": "stream",
          "name": "stdout",
          "text": [
            "min,max:-3,40\n",
            "Min, max indices : 3 1\n"
          ]
        }
      ]
    },
    {
      "cell_type": "code",
      "source": [
        "# repeat with matrix\n",
        "M = np.array([ [0,1,10], [20,8,5] ])\n",
        "print(M), print(' ')\n",
        "\n",
        "minvals1 = np.min(M)\n",
        "minvals2 = np.min(M, axis=0)\n",
        "minvals3 = np.min(M, axis=1)\n",
        "\n",
        "print(minvals1)\n",
        "print(minvals2)\n",
        "print(minvals3)"
      ],
      "metadata": {
        "colab": {
          "base_uri": "https://localhost:8080/"
        },
        "id": "M-BvMPy_kUlx",
        "outputId": "6885239e-9ee0-40a2-e22c-d1a7b1c4c22b"
      },
      "execution_count": null,
      "outputs": [
        {
          "output_type": "stream",
          "name": "stdout",
          "text": [
            "[[ 0  1 10]\n",
            " [20  8  5]]\n",
            " \n",
            "0\n",
            "[0 1 5]\n",
            "[0 5]\n"
          ]
        }
      ]
    },
    {
      "cell_type": "markdown",
      "source": [
        "# PyTorch"
      ],
      "metadata": {
        "id": "oUH3m18Ql8R0"
      }
    },
    {
      "cell_type": "code",
      "source": [
        "# create a vector\n",
        "v = torch.tensor([ 1,40,2,-3 ])\n",
        "\n",
        "# find and report the maximum and minimum values\n",
        "minval = torch.min(v)\n",
        "maxval = torch.max(v)\n",
        "\n",
        "print('Min,max: %g,%g' %(minval,maxval) )\n",
        "\n",
        "\n",
        "# now for the argmin/max\n",
        "minidx = torch.argmin(v)\n",
        "maxidx = torch.argmax(v)\n",
        "\n",
        "print('Min,max indices: %g,%g' %(minidx,maxidx) ), print(' ')\n",
        "\n",
        "# confirm\n",
        "print(f'Min val is { v[minidx] }, max val is { v[maxidx] }')"
      ],
      "metadata": {
        "colab": {
          "base_uri": "https://localhost:8080/"
        },
        "id": "lFsyPHe1l4Qt",
        "outputId": "c687f093-0a58-4a6a-be60-efa85f217f18"
      },
      "execution_count": null,
      "outputs": [
        {
          "output_type": "stream",
          "name": "stdout",
          "text": [
            "Min,max: -3,40\n",
            "Min,max indices: 3,1\n",
            " \n",
            "Min val is -3, max val is 40\n"
          ]
        }
      ]
    },
    {
      "cell_type": "code",
      "source": [
        "# repeat with matrix\n",
        "M = torch.tensor([ [0,1,10], [20,8,5] ])\n",
        "print(M), print(' ')\n",
        "\n",
        "# various minima in this matrix!\n",
        "min1 = torch.min(M)        # minimum from ENTIRE matrix\n",
        "min2 = torch.min(M,axis=0) # minimum of each column (across rows)\n",
        "min3 = torch.min(M,axis=1) # minimum of each row (across columns)\n",
        "\n",
        "# print them out\n",
        "print(min1), print(' ')\n",
        "print(min2), print(' ')\n",
        "print(min2.values)\n",
        "print(min2.indices)\n"
      ],
      "metadata": {
        "id": "oif9j54xmMkV",
        "outputId": "08d6625b-70fd-4dc7-fab0-ec142dfe068c",
        "colab": {
          "base_uri": "https://localhost:8080/"
        }
      },
      "execution_count": null,
      "outputs": [
        {
          "output_type": "stream",
          "name": "stdout",
          "text": [
            "tensor([[ 0,  1, 10],\n",
            "        [20,  8,  5]])\n",
            " \n",
            "tensor(0)\n",
            " \n",
            "torch.return_types.min(\n",
            "values=tensor([0, 1, 5]),\n",
            "indices=tensor([0, 0, 1]))\n",
            " \n",
            "tensor([0, 1, 5])\n",
            "tensor([0, 0, 1])\n"
          ]
        }
      ]
    },
    {
      "cell_type": "code",
      "source": [],
      "metadata": {
        "id": "OnAlcXB8mQAZ"
      },
      "execution_count": null,
      "outputs": []
    }
  ]
}