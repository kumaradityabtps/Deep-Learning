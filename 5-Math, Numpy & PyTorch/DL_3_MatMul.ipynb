{
  "nbformat": 4,
  "nbformat_minor": 0,
  "metadata": {
    "colab": {
      "provenance": []
    },
    "kernelspec": {
      "name": "python3",
      "display_name": "Python 3"
    },
    "language_info": {
      "name": "python"
    }
  },
  "cells": [
    {
      "cell_type": "code",
      "source": [
        "import numpy as np\n",
        "import torch"
      ],
      "metadata": {
        "id": "P5kZf9_bFKdj"
      },
      "execution_count": null,
      "outputs": []
    },
    {
      "cell_type": "code",
      "execution_count": null,
      "metadata": {
        "id": "fjt9Hm5wPMht",
        "colab": {
          "base_uri": "https://localhost:8080/"
        },
        "outputId": "5987b486-622e-4330-990f-8ad33c7438bd"
      },
      "outputs": [
        {
          "output_type": "stream",
          "name": "stdout",
          "text": [
            "[[ 1.49  1.02  3.07  2.32  0.3 ]\n",
            " [-1.15  1.94  1.97  3.23 -0.61]\n",
            " [ 1.21  0.38  1.13  0.71 -0.65]]\n",
            " \n",
            "[[-1.04  0.15 -1.68  1.47]\n",
            " [-2.08 -0.4  -1.3   1.35]\n",
            " [-0.44 -0.46  1.02 -0.76]\n",
            " [ 2.04  2.13  0.4  -1.33]\n",
            " [ 2.43  2.01 -0.46 -0.45]\n",
            " [ 0.97  1.67  0.36 -1.11]\n",
            " [ 1.63  0.8   1.51 -1.75]]\n"
          ]
        }
      ],
      "source": [
        "# create some random matrices\n",
        "A = np.random.randn(3,4)\n",
        "B = np.random.randn(4,5)\n",
        "C = np.random.randn(3,7)\n",
        "\n",
        "# try some multiplications...\n",
        "print(np.round( A@B   ,2)), print(' ')\n",
        "# print(np.round( A@C   ,2)), print(' ')\n",
        "# print(np.round( B@C   ,2)), print(' ')\n",
        "print(np.round( C.T@A ,2))"
      ]
    },
    {
      "cell_type": "markdown",
      "source": [
        "# PyTorch\n"
      ],
      "metadata": {
        "id": "QQBt1DwXGr2x"
      }
    },
    {
      "cell_type": "code",
      "source": [
        "# create some random matrices\n",
        "A  = torch.randn(3,4)\n",
        "B  = torch.randn(4,5)\n",
        "C1 = np.random.randn(4,7)\n",
        "C2 = torch.tensor( C1,dtype=torch.float )\n",
        "\n",
        "# try some multiplications...\n",
        "# print(np.round( A@B   ,2)), print(' ')\n",
        "# print(np.round( A@B.T ,2)), print(' ')\n",
        "print(np.round( A@C1  ,2)), print(' ')\n",
        "print(np.round( A@C2  ,2))"
      ],
      "metadata": {
        "colab": {
          "base_uri": "https://localhost:8080/"
        },
        "id": "Zn689HTyFGLr",
        "outputId": "7a4bf010-9e8f-42c3-ce33-59509de2c555"
      },
      "execution_count": null,
      "outputs": [
        {
          "output_type": "stream",
          "name": "stdout",
          "text": [
            "tensor([[ 0.3400,  1.0100,  2.2600,  0.5100,  2.6200,  5.0600,  7.3500],\n",
            "        [-0.5600,  0.4300, -0.1800, -0.4700,  0.9500,  2.2700,  3.7400],\n",
            "        [-1.3400, -1.2900, -2.4300, -1.6800, -1.2800, -2.6200, -2.5900]],\n",
            "       dtype=torch.float64)\n",
            " \n",
            "tensor([[ 0.3400,  1.0100,  2.2600,  0.5100,  2.6200,  5.0600,  7.3500],\n",
            "        [-0.5600,  0.4300, -0.1800, -0.4700,  0.9500,  2.2700,  3.7400],\n",
            "        [-1.3400, -1.2900, -2.4300, -1.6800, -1.2800, -2.6200, -2.5900]])\n"
          ]
        },
        {
          "output_type": "stream",
          "name": "stderr",
          "text": [
            "/tmp/ipython-input-4136805860.py:10: DeprecationWarning: __array_wrap__ must accept context and return_scalar arguments (positionally) in the future. (Deprecated NumPy 2.0)\n",
            "  print(np.round( A@C1  ,2)), print(' ')\n"
          ]
        }
      ]
    },
    {
      "cell_type": "code",
      "source": [],
      "metadata": {
        "id": "JzQ9lRNXGvSq"
      },
      "execution_count": null,
      "outputs": []
    }
  ]
}