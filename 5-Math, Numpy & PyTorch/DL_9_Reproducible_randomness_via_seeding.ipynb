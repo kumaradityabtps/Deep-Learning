{
  "nbformat": 4,
  "nbformat_minor": 0,
  "metadata": {
    "colab": {
      "provenance": []
    },
    "kernelspec": {
      "name": "python3",
      "display_name": "Python 3"
    },
    "language_info": {
      "name": "python"
    }
  },
  "cells": [
    {
      "cell_type": "code",
      "execution_count": null,
      "metadata": {
        "id": "PQjK1ffMDloS"
      },
      "outputs": [],
      "source": [
        "# import libraries\n",
        "import numpy as np\n",
        "import torch"
      ]
    },
    {
      "cell_type": "code",
      "source": [
        "# generate a few random numbers\n",
        "np.random.randn(5)"
      ],
      "metadata": {
        "colab": {
          "base_uri": "https://localhost:8080/"
        },
        "id": "kNsFJDWjKXbN",
        "outputId": "d7d67680-6082-4326-d6ea-74647462c041"
      },
      "execution_count": null,
      "outputs": [
        {
          "output_type": "execute_result",
          "data": {
            "text/plain": [
              "array([ 1.95762595, -0.46041393,  0.410695  , -0.05632032,  0.6296754 ])"
            ]
          },
          "metadata": {},
          "execution_count": 2
        }
      ]
    },
    {
      "cell_type": "code",
      "source": [
        "# repeat after fixing the seed (old-but-still-widely-used method)\n",
        "np.random.seed(17)\n",
        "print(np.random.randn(5))\n",
        "print(np.random.randn(5))"
      ],
      "metadata": {
        "colab": {
          "base_uri": "https://localhost:8080/"
        },
        "id": "eUET_4IyKe__",
        "outputId": "92b703a3-b080-4fb1-f1f6-3bbaa757f07e"
      },
      "execution_count": null,
      "outputs": [
        {
          "output_type": "stream",
          "name": "stdout",
          "text": [
            "[ 0.27626589 -1.85462808  0.62390111  1.14531129  1.03719047]\n",
            "[ 1.88663893 -0.11169829 -0.36210134  0.14867505 -0.43778315]\n"
          ]
        }
      ]
    },
    {
      "cell_type": "markdown",
      "source": [
        "# New Seed mechanism in numpy\n"
      ],
      "metadata": {
        "id": "KNnYXIEsKnYW"
      }
    },
    {
      "cell_type": "code",
      "source": [
        "randseed1 = np.random.RandomState(17)\n",
        "randseed2 = np.random.RandomState(20210530)\n"
      ],
      "metadata": {
        "id": "e-W7L7dWKja-"
      },
      "execution_count": null,
      "outputs": []
    },
    {
      "cell_type": "code",
      "source": [
        "print( randseed1.randn(5) ) # same sequence\n",
        "print( randseed2.randn(5) ) # different from above, but same each time\n",
        "print( randseed1.randn(5) ) # same as two up\n",
        "print( randseed2.randn(5) ) # same as two up\n",
        "print( np.random.randn(5) ) # different every time"
      ],
      "metadata": {
        "colab": {
          "base_uri": "https://localhost:8080/"
        },
        "id": "CUixPR5SKu7L",
        "outputId": "df299823-1870-49db-deb5-d70b5ea5dcbd"
      },
      "execution_count": null,
      "outputs": [
        {
          "output_type": "stream",
          "name": "stdout",
          "text": [
            "[ 0.27626589 -1.85462808  0.62390111  1.14531129  1.03719047]\n",
            "[-0.24972681 -1.01951826  2.23461339  0.72764703  1.2921122 ]\n",
            "[ 1.88663893 -0.11169829 -0.36210134  0.14867505 -0.43778315]\n",
            "[ 1.15494929 -0.0015467  -0.11196868 -1.08136725  0.10265891]\n",
            "[ 2.171257    1.15231025 -1.81881234 -0.13804934  0.53983961]\n"
          ]
        }
      ]
    },
    {
      "cell_type": "markdown",
      "source": [
        "# Now in pytorch"
      ],
      "metadata": {
        "id": "35JTcRebK8Xa"
      }
    },
    {
      "cell_type": "code",
      "source": [
        "torch.randn(5)"
      ],
      "metadata": {
        "colab": {
          "base_uri": "https://localhost:8080/"
        },
        "id": "uO2UpQEHK3QB",
        "outputId": "8d7b02c2-76a9-4eac-9084-19d49ee12887"
      },
      "execution_count": null,
      "outputs": [
        {
          "output_type": "execute_result",
          "data": {
            "text/plain": [
              "tensor([-1.4392, -0.6904, -1.3802,  0.5431,  0.0146])"
            ]
          },
          "metadata": {},
          "execution_count": 7
        }
      ]
    },
    {
      "cell_type": "code",
      "source": [
        "torch.manual_seed(17)\n",
        "print( torch.randn(5) )"
      ],
      "metadata": {
        "colab": {
          "base_uri": "https://localhost:8080/"
        },
        "id": "vqDp0OcqLDdZ",
        "outputId": "06e661f9-9ceb-49a6-bf0a-9a75caac1489"
      },
      "execution_count": null,
      "outputs": [
        {
          "output_type": "stream",
          "name": "stdout",
          "text": [
            "tensor([-1.4135,  0.2336,  0.0340,  0.3499, -0.0145])\n"
          ]
        }
      ]
    },
    {
      "cell_type": "code",
      "source": [
        "# torch's seed doesn't spread to numpy\n",
        "print( np.random.randn(5) )"
      ],
      "metadata": {
        "colab": {
          "base_uri": "https://localhost:8080/"
        },
        "id": "dKBmkAqBLHiH",
        "outputId": "fc9d715c-f9c8-408f-f6cc-fa7abaf9b84a"
      },
      "execution_count": null,
      "outputs": [
        {
          "output_type": "stream",
          "name": "stdout",
          "text": [
            "[-1.77528229  1.31487654 -0.47344805 -1.0922299  -0.25002744]\n"
          ]
        }
      ]
    },
    {
      "cell_type": "code",
      "source": [],
      "metadata": {
        "id": "p_N14o02LOXT"
      },
      "execution_count": null,
      "outputs": []
    }
  ]
}